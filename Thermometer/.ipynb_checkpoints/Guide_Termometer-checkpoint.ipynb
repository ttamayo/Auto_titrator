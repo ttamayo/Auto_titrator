{
 "cells": [
  {
   "cell_type": "markdown",
   "metadata": {},
   "source": [
    "# Description of the thermometer\n",
    "\n",
    "We'll work with this thermometer:\n",
    "<img src=\"https://www.vernier.com/images/cache/product.tmp-bta._hero.001.590.332.jpg\" width=\"400\" height=\"400\" />\n",
    "\n",
    "This probe uses the 20 kΩ NTC Thermistor, which is a variable resistor. When the temperature increases, the resistance decreases non-linearly. \n",
    "\n"
   ]
  },
  {
   "cell_type": "markdown",
   "metadata": {
    "collapsed": true
   },
   "source": [
    "### Thermistor\n",
    "\n",
    "We can measure the temperature, by registering the change of voltage of a circuit with some predefined and calibrated resistances. The idea behind it is that the resistances changes as a function of the temperature. The thermistor uses an analog connector:\n",
    "\n",
    "<img src=\"https://cdn.sparkfun.com/assets/8/b/9/f/d/52efead4ce395f041e8b4568.gif\n",
    "\" width=\"400\" height=\"400\" />\n",
    "\n",
    "### Power vernier sensor interface shield\n",
    "\n",
    "It is a convenient way to control a series of analog and digital probes from the vernier brand. It\n",
    "was originally designed as a hat for an Arduino Uno. \n",
    "\n",
    "<img src=\"https://cdn.sparkfun.com/r/300-300/assets/7/3/5/e/c/52e81e6cce395fec7f8b4567.jpg\n",
    "\" width=\"400\" height=\"400\" />\n",
    "\n",
    "The advantage of this hat is its Arduino library and the huge amount of test scripts to control\n",
    "several kinds of probes that allow to perform several cool experiments.\n",
    "\n",
    "\n",
    "https://github.com/sparkfun/SparkFun_Vernier_Interface_Shield_Arduino_Library/tree/V_1.0.1\n",
    "\n",
    "\n",
    "### MCP3008: ADC converter\n",
    "\n",
    "The thermistor voltage is an analogous signal given by the outlet of our vernier sensor interface shield. The serial/analogous signal consists of a protocol for sending an organized message sequentially and has the advantage that we can obtain actual numbers from them. Unfortunately, the Raspberry pi doesn't have a serial port, so he can't read it directly. Instead we will use an ADC converter, that changes this signal into an 8 bits number using some pins built in SPI protocol (https://es.wikipedia.org/wiki/Serial_Peripheral_Interface). For our titration, we'll use the MCP3008 (https://stevieb9.github.io/rpi-adc-mcp3008/datasheet/MCP3008.pdf). The SPI protocol for this converter is already included in the RPIO module. \n",
    "To connect it to the Raspberry, you might want to use the following scheme:\n",
    "<img src=\"http://3.bp.blogspot.com/-aevBDTV4CMc/VkMtxR2yklI/AAAAAAAADqU/KAaTqiFTWqs/s640/Screenshot%2B2015-11-11%2B12.47.13.png\" width=\"400\" height=\"400\" />\n"
   ]
  },
  {
   "cell_type": "markdown",
   "metadata": {},
   "source": [
    "# References:\n",
    "https://stevieb9.github.io/rpi-adc-mcp3008/datasheet/MCP3008.pdf\n",
    "https://www.vernier.com/manuals/tmp-bta/\n",
    "http://www.vernier.com/images/cache/banner.bt-ard._cropped.001.896.279.jpg\n",
    "https://learn.sparkfun.com/tutorials/vernier-shield-hookup-guide?_ga=1.200530086.94916921.1488849082#resources-and-\n",
    "\n",
    "\n",
    "\n",
    "\n",
    "\n",
    "\n"
   ]
  },
  {
   "cell_type": "code",
   "execution_count": null,
   "metadata": {
    "collapsed": true
   },
   "outputs": [],
   "source": []
  }
 ],
 "metadata": {
  "kernelspec": {
   "display_name": "Python 3",
   "language": "python",
   "name": "python3"
  },
  "language_info": {
   "codemirror_mode": {
    "name": "ipython",
    "version": 3
   },
   "file_extension": ".py",
   "mimetype": "text/x-python",
   "name": "python",
   "nbconvert_exporter": "python",
   "pygments_lexer": "ipython3",
   "version": "3.5.3"
  },
  "latex_envs": {
   "bibliofile": "biblio.bib",
   "cite_by": "apalike",
   "current_citInitial": 1,
   "eqLabelWithNumbers": true,
   "eqNumInitial": 0
  },
  "toc": {
   "toc_cell": false,
   "toc_number_sections": true,
   "toc_threshold": 6,
   "toc_window_display": false
  }
 },
 "nbformat": 4,
 "nbformat_minor": 2
}
