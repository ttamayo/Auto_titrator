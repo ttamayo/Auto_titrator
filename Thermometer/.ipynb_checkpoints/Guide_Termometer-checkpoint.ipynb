{
 "cells": [
  {
   "cell_type": "markdown",
   "metadata": {},
   "source": [
    "# Description of the temperature probe\n",
    "\n",
    "We'll work with the temperature probe:\n",
    "<img src=\"https://www.vernier.com/images/cache/product.tmp-bta._hero.001.590.332.jpg\" width=\"400\" height=\"400\" />\n",
    "\n",
    "This probe uses the 20 kΩ NTC Thermistor, which is a variable resistor. When the temperature increases, the resistance decreases non-linearly. \n",
    "\n"
   ]
  },
  {
   "cell_type": "code",
   "execution_count": null,
   "metadata": {
    "collapsed": true
   },
   "outputs": [],
   "source": [
    "## Conecting and collecting information from temperature probe:\n"
   ]
  },
  {
   "cell_type": "markdown",
   "metadata": {},
   "source": [
    "# References:\n",
    "https://www.vernier.com/manuals/tmp-bta/\n",
    "http://www.vernier.com/images/cache/banner.bt-ard._cropped.001.896.279.jpg\n",
    "\n",
    "\n",
    "https://learn.sparkfun.com/tutorials/vernier-shield-hookup-guide?_ga=1.200530086.94916921.1488849082#resources-and-going-further\n",
    "\n",
    "\n",
    "\n",
    "\n",
    "\n",
    "\n"
   ]
  }
 ],
 "metadata": {
  "kernelspec": {
   "display_name": "Python 2",
   "language": "python",
   "name": "python2"
  },
  "language_info": {
   "codemirror_mode": {
    "name": "ipython",
    "version": 2
   },
   "file_extension": ".py",
   "mimetype": "text/x-python",
   "name": "python",
   "nbconvert_exporter": "python",
   "pygments_lexer": "ipython2",
   "version": "2.7.12"
  }
 },
 "nbformat": 4,
 "nbformat_minor": 2
}
