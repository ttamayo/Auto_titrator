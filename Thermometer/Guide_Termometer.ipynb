{
 "cells": [
  {
   "cell_type": "markdown",
   "metadata": {},
   "source": [
    "# Description of the temperature probe\n",
    "\n",
    "We'll work with the temperature probe:\n",
    "<img src=\"https://www.vernier.com/images/cache/product.tmp-bta._hero.001.590.332.jpg\" width=\"400\" height=\"400\" />\n",
    "\n",
    "This probe uses the 20 kΩ NTC Thermistor, which is a variable resistor. When the temperature increases, the resistance decreases non-linearly. \n",
    "\n"
   ]
  },
  {
   "cell_type": "markdown",
   "metadata": {
    "collapsed": true
   },
   "source": [
    "### Thermistor\n",
    "\n",
    "We can meassure the temperature, by measuring the change of voltage of a circuit with some predifined and calibrated resistances. The idea behind it is that the resistances changes in function of the temperature.\n",
    "The thermistor uses an analog connector:\n",
    "\n",
    "<img src=\"https://cdn.sparkfun.com/assets/8/b/9/f/d/52efead4ce395f041e8b4568.gif\n",
    "\" width=\"400\" height=\"400\" />\n",
    "\n",
    "### Power vernier sensor interface shield\n",
    "\n",
    "It is a convenient way to control a series of analog and digital probes from the vernier brand. It\n",
    "was originally designed as a hat for an Arduino Uno. \n",
    "\n",
    "<img src=\"https://cdn.sparkfun.com/r/300-300/assets/7/3/5/e/c/52e81e6cce395fec7f8b4567.jpg\n",
    "\" width=\"400\" height=\"400\" />\n",
    "\n",
    "One advantage of this hat is its Arduino library and huge amount of test scripts to control\n",
    "several kinds of probes, and nice experiments.\n",
    "\n",
    "\n",
    "https://github.com/sparkfun/SparkFun_Vernier_Interface_Shield_Arduino_Library/tree/V_1.0.1\n",
    "\n",
    "\n",
    "### MCP3008: ADC converter\n",
    "\n",
    "The thermistor voltage is an analogous signal, containing an outlet of our vernier sensor interface shield. \n",
    "The serial/analogous signal consist of a protocol for sending an organized message sequentially and has the advantage that we can obtain actual numbers from them. \n",
    "Unfortunately, the Raspberry pi doesn't have a serial port, so it can't read it directly. Instead we will use an ADC converter, that changes this signal into 8 bits and using some pins to use a build in SPI protocol (https://es.wikipedia.org/wiki/Serial_Peripheral_Interface). For our titration, we'll use the MCP3008 (https://stevieb9.github.io/rpi-adc-mcp3008/datasheet/MCP3008.pdf). The SPI protocol for this converter is already included in the RPIO module. \n",
    "To connect it to the Raspberry, you might want to use the following scheme:\n",
    "<img src=\"http://3.bp.blogspot.com/-aevBDTV4CMc/VkMtxR2yklI/AAAAAAAADqU/KAaTqiFTWqs/s640/Screenshot%2B2015-11-11%2B12.47.13.png\" width=\"400\" height=\"400\" />\n"
   ]
  },
  {
   "cell_type": "markdown",
   "metadata": {},
   "source": [
    "# References:\n",
    "https://stevieb9.github.io/rpi-adc-mcp3008/datasheet/MCP3008.pdf\n",
    "https://www.vernier.com/manuals/tmp-bta/\n",
    "http://www.vernier.com/images/cache/banner.bt-ard._cropped.001.896.279.jpg\n",
    "https://learn.sparkfun.com/tutorials/vernier-shield-hookup-guide?_ga=1.200530086.94916921.1488849082#resources-and-\n",
    "\n",
    "\n",
    "\n",
    "\n",
    "\n",
    "\n"
   ]
  },
  {
   "cell_type": "code",
   "execution_count": null,
   "metadata": {
    "collapsed": true
   },
   "outputs": [],
   "source": []
  }
 ],
 "metadata": {
  "kernelspec": {
   "display_name": "Python [Root]",
   "language": "python",
   "name": "Python [Root]"
  },
  "language_info": {
   "codemirror_mode": {
    "name": "ipython",
    "version": 2
   },
   "file_extension": ".py",
   "mimetype": "text/x-python",
   "name": "python",
   "nbconvert_exporter": "python",
   "pygments_lexer": "ipython2",
   "version": "2.7.12"
  }
 },
 "nbformat": 4,
 "nbformat_minor": 2
}
