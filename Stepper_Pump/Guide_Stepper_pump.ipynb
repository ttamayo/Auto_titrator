{
 "cells": [
  {
   "cell_type": "markdown",
   "metadata": {},
   "source": [
    "# Description of the stepper pumps\n",
    "\n",
    "At this point you must have worked with a kind of peristalic pumps.\n",
    "Now we are going to test another kind of peristalic pumps: \n",
    "\n",
    "<img src=\"http://i.ebayimg.com/00/s/MTA2NlgxNjAw/z/KWsAAOSw5VFWOrZ6/$_57.JPG?set_id=880000500F\" width=\"400\" height=\"400\" />\n",
    "\n",
    "They work with a stepper motor, these motos have a shaft that doesn't touch anything in order to rotate. Instead, they use electromagnets, these electromagnets are created by magnetizing pieces of metal with a current. By synchronizing these magnetizations, we can make that the central shaft rotates. Then the motor can be induced to spin\n",
    "at different speeds by changing the polarity in a specific pattern.\n",
    "\n",
    "<img src=\"https://cdn.instructables.com/FC9/INQ8/I0NOFW35/FC9INQ8I0NOFW35.MEDIUM.gif\" width=\"400\" height=\"400\" />\n",
    "\n",
    "In our specific case, we will use a bipolar motor. \n",
    "\n",
    "<img src=\"http://42bots.com/wp-content/uploads/2014/11/bipolar-stepper-motor-wiring-labels-300x300.png\" width=\"400\" height=\"400\" />\n",
    "\n",
    "It has 4 wires, and contains 2-phases (2 wires for each coil). \n",
    "In order to make the shaft rotate, they need to reverse the current flow and change polarization in some steps. \n",
    "\n",
    "\n",
    "Based on this mechanism, we can control the speed of the shaft and therefore have different flows. As before, we need to have a protocol to **calibrate** the pumps for our automatic titrator. But before we go into that, we should first understand a bit more about the circuit that we'll use and how to control it with a raspberrry pi."
   ]
  },
  {
   "cell_type": "markdown",
   "metadata": {},
   "source": [
    "## Connecting our pumps\n",
    "\n",
    "\n",
    "\n",
    "### Raspberry Pi connections\n",
    "\n",
    "\n",
    "![](../Images/pins.png)\n",
    "\n",
    "###  Simple Dual H-Bridge Driver\n",
    "\n",
    "Driving a bipolar motor requires 2 full H-bridges so it can reverse the current to the phases.\n",
    "An H-bridge(https://en.wikipedia.org/wiki/H_bridge) is an electronic circuit that enables a voltage to be applied across a load in either direction. \n",
    " <img src=\"http://www.mcmanis.com/chuck/robotics/tutorial/h-bridge/images/basic-bridge.gif\" width=\"400\" height=\"400\" />\n",
    "\n",
    "For example if we can close the circuit and control the current in a specific direcction.\n",
    " <img src=\"http://www.mcmanis.com/chuck/robotics/tutorial/h-bridge/images/current-fwd.gif\" width=\"400\" height=\"400\" />\n",
    "    \n",
    "In general building them can be a little bit tricky if we want to build them from scracth.\n",
    "That is why we use a chip, the L293D, and in general it can be found in a number of motor shield.\n",
    "<img src=\"https://cdn-shop.adafruit.com/970x728/807-01.jpg\" width=\"400\" height=\"400\" />\n",
    "\n",
    "It has the following circuit\n",
    "<img src=\"http://www.prometec.net/wp-content/uploads/2015/03/L293D_Skeleton.jpg\" width=\"400\" height=\"400\" />\n",
    "\n"
   ]
  },
  {
   "cell_type": "markdown",
   "metadata": {},
   "source": [
    "## Diagram of the whole circuit\n",
    "\n",
    "## Controlling the pumps from the Raspberry Pi\n",
    "\n",
    "To give you an idea of the of how to control the pumps from the RP using python, we have prepared two tests, in the folder of this repository and the information regarding the specific connections and ports are included in this folder. Check them out! \n",
    "\n",
    "And before you start as always:"
   ]
  },
  {
   "cell_type": "markdown",
   "metadata": {},
   "source": [
    "#  <i class=\"fa fa-exclamation-triangle\" aria-hidden=\"true\"></i> WARNING\n",
    "# <i class=\"fa fa-exclamation-triangle\" aria-hidden=\"true\"></i> WARNUNG\n",
    "# <i class=\"fa fa-exclamation-triangle\" aria-hidden=\"true\"></i> ADVERTENCIA\n",
    "# READ THIS BEFORE YOU PROCEED\n",
    "\n",
    "* Before connecting anything, double check your circuit, you might burn a circuit or cause an accident.\n",
    "\n",
    "* If it is possible before connecting anything to a single power supply, test everything with a regular wall power source with smaller current. (It might not be possible with the stepper pumps).\n",
    "\n",
    "* It is ok to build a circuit with jumpers and alligators, after that use a permaboard or/and use a more permanent wired.\n",
    "\n",
    "* Check frequently if the voltage and current is the adequate.\n",
    "\n",
    "* Do not leave any open wires, use electic tape to cover it.\n",
    "\n",
    "* Keep all the circuits and wiring far form liquids.\n",
    "\n",
    "* If you are not sure about something, please ask.\n"
   ]
  },
  {
   "cell_type": "markdown",
   "metadata": {},
   "source": [
    "# References and further information\n",
    "* http://www.fred-j.org/?p=366\n",
    "* https://cdn-learn.adafruit.com/downloads/pdf/all-about-stepper-motors.pdf\n",
    "* http://www.ti.com/lit/ds/symlink/l293.pdf"
   ]
  },
  {
   "cell_type": "code",
   "execution_count": null,
   "metadata": {
    "collapsed": true
   },
   "outputs": [],
   "source": []
  }
 ],
 "metadata": {
  "kernelspec": {
   "display_name": "Python [Root]",
   "language": "python",
   "name": "Python [Root]"
  },
  "language_info": {
   "codemirror_mode": {
    "name": "ipython",
    "version": 2
   },
   "file_extension": ".py",
   "mimetype": "text/x-python",
   "name": "python",
   "nbconvert_exporter": "python",
   "pygments_lexer": "ipython2",
   "version": "2.7.12"
  }
 },
 "nbformat": 4,
 "nbformat_minor": 2
}
