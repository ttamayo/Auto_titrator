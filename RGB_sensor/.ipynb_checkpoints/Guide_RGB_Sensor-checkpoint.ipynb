{
 "cells": [
  {
   "cell_type": "markdown",
   "metadata": {},
   "source": [
    "# Description of RGB sensor\n",
    "You might want to use a chemical indicator to make sure that the equivalence point\n",
    "matches with the one you will obtain with a pH probe. A cheap and easy way\n",
    "to monitor it is with an RGB sensor, which records the light intesisty of green, red, and blue spectrums.\n",
    "\n",
    "\n",
    "<img src=\"https://cdn.sparkfun.com/assets/learn_tutorials/2/2/7/angled.jpg\" width=\"400\" height=\"400\" />\n",
    "\n"
   ]
  },
  {
   "cell_type": "markdown",
   "metadata": {},
   "source": [
    "# Connecting and collecting data from sensor\n",
    "\n",
    "\n",
    "## Controlling the pumps from the Raspberry Pi\n",
    "\n",
    "To give you and idea of the of how to control the pumps from the using python, \n",
    "we the information regarding to the specific connections and ports are included in this folder, and a test script as well.\n",
    "Check them out! \n",
    "\n",
    "    \n",
    "# References\n",
    "\n",
    "* https://cdn.sparkfun.com/datasheets/Sensors/LightImaging/isl29125.pdf"
   ]
  },
  {
   "cell_type": "code",
   "execution_count": null,
   "metadata": {
    "collapsed": true
   },
   "outputs": [],
   "source": []
  }
 ],
 "metadata": {
  "kernelspec": {
   "display_name": "Python 2",
   "language": "python",
   "name": "python2"
  },
  "language_info": {
   "codemirror_mode": {
    "name": "ipython",
    "version": 2
   },
   "file_extension": ".py",
   "mimetype": "text/x-python",
   "name": "python",
   "nbconvert_exporter": "python",
   "pygments_lexer": "ipython2",
   "version": "2.7.12"
  }
 },
 "nbformat": 4,
 "nbformat_minor": 2
}
