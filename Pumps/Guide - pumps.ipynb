{
 "cells": [
  {
   "cell_type": "markdown",
   "metadata": {},
   "source": [
    "# Description of the pumps"
   ]
  },
  {
   "cell_type": "markdown",
   "metadata": {},
   "source": [
    "These are some pictures of the pumps we will use in the project:\n",
    "\n",
    "<img src=\"http://i.ebayimg.com/00/s/MTA2NlgxNjAw/z/KWsAAOSw5VFWOrZ6/$_57.JPG?set_id=880000500F\" width=\"400\" height=\"400\" />\n",
    "<img src=\"https://s-media-cache-ak0.pinimg.com/736x/14/05/25/14052577c84eba4bef773c84728b0461.jpg\" width=\"300\" height=\"300\">\n",
    "    \n",
    "All of them are peristaltic pumps. According to the [Wikipedia](https://en.wikipedia.org/wiki/Peristaltic_pump): *\"A peristaltic pump is a type of positive displacement pump used for pumping a variety of fluids. The fluid is contained within a flexible tube fitted inside a circular pump casing (though linear peristaltic pumps have been made). A rotor with a number of \"rollers\", \"shoes\", \"wipers\", or \"lobes\" attached to the external circumference of the rotor compresses the flexible tube. As the rotor turns, the part of the tube under compression is pinched closed (or \"occludes\") thus forcing the fluid to be pumped to move through the tube. Additionally, as the tube opens to its natural state after the passing of the cam (\"restitution\" or \"resilience\") fluid flow is induced to the pump.\"*\n",
    "\n",
    "The following gifs illustrate the previous description:\n",
    "\n",
    "![ppump](https://upload.wikimedia.org/wikipedia/commons/9/95/Peristaltic_pump.gif)\n",
    "![ppump2](https://upload.wikimedia.org/wikipedia/commons/e/e1/Peristaltic_pump_LAMBDA_PRECIFLOW_-_pumping_mechanism.gif)\n",
    "\n",
    "Based on the mechanism of peristaltic pumps, it is expected that the flow is proportional to the speed of the rotor. Our pumps work at a fixed speed and therefore we expect a constant flow. For operational purposes of our titrator we need to **calibrate** our pumps in order to know what is its flow. But before we go into that, we should first understand a bit more about how the pumps operate and how we can control it with a raspberry pi."
   ]
  },
  {
   "cell_type": "markdown",
   "metadata": {},
   "source": [
    "## Conecting our pumps to a Raspberry pi\n",
    "\n",
    "A raspberry pi is a small device, and it operates at a relatively low power. This is actually one of the main advantages of these type of 'minicomputers' that allows to execute complex operations to assist other processes without spending too much energy. \n",
    "\n",
    "The raspberry pis that we will use can provide up to 5V to an external device. This is not enough to power up our pumps. Therefore, we will need an external power suply that can give enough power to the pumps to work. Still, we want to control the pumps using the raspberry. For this purpose we will make use of an electromagnetic device called **relay**, which works as an switch that allows you to control a high voltage electrical circuit (the pump) by opening and closing contacts in another low voltage circuit (the raspberry pi).\n",
    "\n",
    "By using the relay we will turn on and off the pumps by sending signals from our raspberry pi. Before assembling the circuit we need to identify the different parts and the point contacts involved."
   ]
  },
  {
   "cell_type": "markdown",
   "metadata": {},
   "source": [
    "## Relay\n",
    "\n",
    "The most basic relay works by a physical mechanism. The low power circuit is use to generate an electromagnetic field that attracts a moving component that closes the high-power circuit.\n",
    "\n",
    "![relay](http://cdn4.explainthatstuff.com/how-relay-works2.gif)\n",
    "![relay2](http://cdn4.explainthatstuff.com/how-a-relay-works.gif)\n",
    "\n",
    "We will be using the following card, that contain 4 relays. Each relay corresponds to one of the blue boxes:\n",
    "\n",
    "![our relay](https://grobotronics.com/images/thumbnails/320/320/detailed/4/relay_module_4_channel.png)\n"
   ]
  },
  {
   "cell_type": "markdown",
   "metadata": {},
   "source": [
    "## Raspberry Pi connections\n",
    "\n",
    "For the connections fo the raspberry pi we will be using the General-purpose input/output (GPIO) pins. The behavior of these pins is controllable by the user at run time, which makes them convinient to send signals to the relay to turn on and off the pumps.\n",
    "\n",
    "### Include diagram of the location of the pins."
   ]
  },
  {
   "cell_type": "markdown",
   "metadata": {},
   "source": [
    "## Power supply\n",
    "\n",
    "### Include picture"
   ]
  },
  {
   "cell_type": "markdown",
   "metadata": {},
   "source": [
    "## Diagram of the whole circuit\n",
    "\n",
    "### Include picture"
   ]
  },
  {
   "cell_type": "code",
   "execution_count": null,
   "metadata": {
    "collapsed": true
   },
   "outputs": [],
   "source": []
  }
 ],
 "metadata": {
  "kernelspec": {
   "display_name": "Python 2",
   "language": "python",
   "name": "python2"
  },
  "language_info": {
   "codemirror_mode": {
    "name": "ipython",
    "version": 2
   },
   "file_extension": ".py",
   "mimetype": "text/x-python",
   "name": "python",
   "nbconvert_exporter": "python",
   "pygments_lexer": "ipython2",
   "version": "2.7.6"
  }
 },
 "nbformat": 4,
 "nbformat_minor": 1
}
