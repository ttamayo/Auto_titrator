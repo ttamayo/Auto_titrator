{
 "cells": [
  {
   "cell_type": "markdown",
   "metadata": {},
   "source": [
    "# Description of RGB sensor\n",
    "You might want to use a chemical indicator to make sure that the equivalence point\n",
    "matches with the one you will obtain from the analysis of the pH data. A cheap and easy way\n",
    "to monitor this is with an RGB sensor, which records the light intensity of green, red, and blue light.\n",
    "\n",
    "\n",
    "<img src=\"https://cdn.sparkfun.com/assets/learn_tutorials/2/2/7/angled.jpg\" width=\"400\" height=\"400\" />\n",
    "\n"
   ]
  },
  {
   "cell_type": "markdown",
   "metadata": {},
   "source": [
    "# Connecting and collecting data from sensor\n",
    "\n",
    "### I2C \n",
    "\n",
    "The Inter-integrated Circuit (I2C) Protocol is a protocol intended to allow multiple “slave” digital integrated circuits (“chips”) to communicate with one or more “master” chips. Like the Serial Peripheral Interface (SPI), it is only intended for short distance communications within a single device. \n",
    "<img src=\"https://cdn.sparkfun.com/r/600-600/assets/5/c/a/3/0/51adfda8ce395f935d000000.png\" width=\"400\" height=\"400\"/>\n",
    "\n",
    "\n",
    "In our sensor we'll use the buses SDA and SCL. SCL is the clock signal, and SDA is the data signal. The whole protocol allow us to read and write on specific registers. This will help us to set up the sensor, for example configuring the type of measurement that we want. Later, we will be able to read the current registered values for the green, blue or red sensor.\n",
    "\n",
    "\n",
    "## Reading from a Raspberry Pi\n",
    "\n",
    "To give you and idea of how to read RGB from the sensor using python, we included a description of the specific connections and ports in this folder, along with a test script.\n",
    "Check them out! \n",
    "\n",
    "    \n",
    "# References\n",
    "\n",
    "* https://cdn.sparkfun.com/datasheets/Sensors/LightImaging/isl29125.pdf"
   ]
  },
  {
   "cell_type": "code",
   "execution_count": null,
   "metadata": {
    "collapsed": true
   },
   "outputs": [],
   "source": []
  }
 ],
 "metadata": {
  "kernelspec": {
   "display_name": "Python 3",
   "language": "python",
   "name": "python3"
  },
  "language_info": {
   "codemirror_mode": {
    "name": "ipython",
    "version": 3
   },
   "file_extension": ".py",
   "mimetype": "text/x-python",
   "name": "python",
   "nbconvert_exporter": "python",
   "pygments_lexer": "ipython3",
   "version": "3.5.3"
  },
  "latex_envs": {
   "bibliofile": "biblio.bib",
   "cite_by": "apalike",
   "current_citInitial": 1,
   "eqLabelWithNumbers": true,
   "eqNumInitial": 0
  },
  "toc": {
   "toc_cell": false,
   "toc_number_sections": true,
   "toc_threshold": 6,
   "toc_window_display": false
  }
 },
 "nbformat": 4,
 "nbformat_minor": 2
}
